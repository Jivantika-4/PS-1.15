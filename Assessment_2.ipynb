{
  "nbformat": 4,
  "nbformat_minor": 0,
  "metadata": {
    "colab": {
      "provenance": [],
      "toc_visible": true
    },
    "kernelspec": {
      "name": "python3",
      "display_name": "Python 3"
    },
    "language_info": {
      "name": "python"
    }
  },
  "cells": [
    {
      "cell_type": "markdown",
      "source": [
        "Question 1:\n",
        "If we list all the natural numbers below 10 that are multiples of 3 or 5, we get 3, 5, 6 and 9. The sum of these multiples is 23.\n",
        "Finish the solution so that it returns the sum of all the multiples of 3 or 5 below the number passed in.\n",
        "Additionally, if the number is negative, return 0.\n",
        "Note: If the number is a multiple of both 3 and 5, only count it once.\n"
      ],
      "metadata": {
        "id": "vMJGds0zlEsF"
      }
    },
    {
      "cell_type": "code",
      "execution_count": 1,
      "metadata": {
        "colab": {
          "base_uri": "https://localhost:8080/"
        },
        "id": "w18HbH7xk_xL",
        "outputId": "d565e5ad-2d07-4053-9ba3-215764b3ee67"
      },
      "outputs": [
        {
          "output_type": "stream",
          "name": "stdout",
          "text": [
            "23\n"
          ]
        }
      ],
      "source": [
        "def sum_of_multiples(n):\n",
        "    if n < 0:\n",
        "        return 0\n",
        "    return sum(x for x in range(n) if x % 3 == 0 or x % 5 == 0)\n",
        "\n",
        "print(sum_of_multiples(10))\n"
      ]
    },
    {
      "cell_type": "markdown",
      "source": [
        "Question 2:\n",
        "Complete the method/function so that it converts dash/underscore delimited words into camel casing. The first word within the output should be capitalized only if the original word was capitalized (known as Upper Camel Case, also often referred to as Pascal case). The next words should always be capitalized.\n",
        "Examples\n",
        "\"the-stealth-warrior\" gets converted to \"theStealthWarrior\"\n",
        "\"The_Stealth_Warrior\" gets converted to \"TheStealthWarrior\"\n",
        "\"The_Stealth-Warrior\" gets converted to \"TheStealthWarrior\""
      ],
      "metadata": {
        "id": "mgxQlL9dlxLf"
      }
    },
    {
      "cell_type": "code",
      "source": [
        "import re\n",
        "\n",
        "def to_camel_case(text):\n",
        "    words = re.split('[-_]', text)\n",
        "    return words[0] + ''.join(word.capitalize() for word in words[1:]) if words else ''\n",
        "\n",
        "print(to_camel_case(\"the-stealth-warrior\"))\n",
        "print(to_camel_case(\"The_Stealth_Warrior\"))\n",
        "print(to_camel_case(\"The_Stealth-Warrior\"))\n",
        "print(to_camel_case(\"\"))\n"
      ],
      "metadata": {
        "colab": {
          "base_uri": "https://localhost:8080/"
        },
        "id": "kvaBuiral_mx",
        "outputId": "8973dff6-9ffc-472e-c640-a204066f68ec"
      },
      "execution_count": 2,
      "outputs": [
        {
          "output_type": "stream",
          "name": "stdout",
          "text": [
            "theStealthWarrior\n",
            "TheStealthWarrior\n",
            "TheStealthWarrior\n",
            "\n"
          ]
        }
      ]
    },
    {
      "cell_type": "markdown",
      "source": [
        "Question 3:\n",
        "Trolls are attacking your comment section!\n",
        "A common way to deal with this situation is to remove all of the vowels from the trolls' comments, neutralizing the threat.\n",
        "Your task is to write a function that takes a string and return a new string with all vowels removed.\n",
        "For example, the string \"This website is for losers LOL!\" would become \"Ths wbst s fr lsrs LL!\""
      ],
      "metadata": {
        "id": "z4X39OklmT4M"
      }
    },
    {
      "cell_type": "code",
      "source": [
        "def remove_vowels(s):\n",
        "    return ''.join(char for char in s if char.lower() not in \"aeiou\")\n",
        "\n",
        "print(remove_vowels(\"This website is for losers LOL!\"))\n"
      ],
      "metadata": {
        "colab": {
          "base_uri": "https://localhost:8080/"
        },
        "id": "jXodS1ufmTjl",
        "outputId": "6b3f606b-b9f2-4e64-d3f4-5a29208ecbfb"
      },
      "execution_count": 3,
      "outputs": [
        {
          "output_type": "stream",
          "name": "stdout",
          "text": [
            "Ths wbst s fr lsrs LL!\n"
          ]
        }
      ]
    },
    {
      "cell_type": "markdown",
      "source": [
        "Question 4:\n",
        "Your task is to sort a given string. Each word in the string will contain a single number. This number is the position the word should have in the result.\n",
        "Note: Numbers can be from 1 to 9. So 1 will be the first word (not 0).\n",
        "If the input string is empty, return an empty string. The words in the input String will only contain valid consecutive numbers.\n",
        "Examples\n",
        "\"is2 Thi1s T4est 3a\"  -->  \"Thi1s is2 3a T4est\"\n",
        "\"4of Fo1r pe6ople g3ood th5e the2\"  -->  \"Fo1r the2 g3ood 4of th5e pe6ople\"\n",
        "\"\"  -->  \"\"\n"
      ],
      "metadata": {
        "id": "WL6llIdHmoUK"
      }
    },
    {
      "cell_type": "code",
      "source": [
        "def order(sentence):\n",
        "    return ' '.join(sorted(sentence.split(), key=lambda word: sorted(word)))\n",
        "\n",
        "print(order(\"is2 Thi1s T4est 3a\"))\n",
        "print(order(\"4of Fo1r pe6ople g3ood th5e the2\"))\n",
        "print(order(\"\"))\n"
      ],
      "metadata": {
        "colab": {
          "base_uri": "https://localhost:8080/"
        },
        "id": "Uw63bHUMmoAL",
        "outputId": "772c4e13-0aed-458c-c7b4-1baa20a2a25d"
      },
      "execution_count": 4,
      "outputs": [
        {
          "output_type": "stream",
          "name": "stdout",
          "text": [
            "Thi1s is2 3a T4est\n",
            "Fo1r the2 g3ood 4of th5e pe6ople\n",
            "\n"
          ]
        }
      ]
    },
    {
      "cell_type": "markdown",
      "source": [
        "Question 5:\n",
        "You will be given an array of numbers. You have to sort the odd numbers in ascending order while leaving the even numbers at their original positions.\n",
        "Examples\n",
        "[7, 1]  =>  [1, 7]\n",
        "[5, 8, 6, 3, 4]  =>  [3, 8, 6, 5, 4]\n",
        "[9, 8, 7, 6, 5, 4, 3, 2, 1, 0]  =>  [1, 8, 3, 6, 5, 4, 7, 2, 9, 0]"
      ],
      "metadata": {
        "id": "koBmUrJ5nAT3"
      }
    },
    {
      "cell_type": "code",
      "source": [
        "def sort_odds(arr):\n",
        "    odds = sorted([num for num in arr if num % 2 != 0])\n",
        "    odd_index = 0\n",
        "\n",
        "    result = []\n",
        "    for num in arr:\n",
        "        if num % 2 != 0:\n",
        "            result.append(odds[odd_index])\n",
        "            odd_index += 1\n",
        "        else:\n",
        "            result.append(num)\n",
        "\n",
        "    return result\n",
        "\n",
        "print(sort_odds([7, 1]))\n",
        "print(sort_odds([5, 8, 6, 3, 4]))\n",
        "print(sort_odds([9, 8, 7, 6, 5, 4, 3, 2, 1, 0]))\n",
        "\n"
      ],
      "metadata": {
        "colab": {
          "base_uri": "https://localhost:8080/"
        },
        "id": "qVlfaDgFnSjz",
        "outputId": "ee23b407-68b1-4217-979a-fbb969e27e84"
      },
      "execution_count": 6,
      "outputs": [
        {
          "output_type": "stream",
          "name": "stdout",
          "text": [
            "[1, 7]\n",
            "[3, 8, 6, 5, 4]\n",
            "[1, 8, 3, 6, 5, 4, 7, 2, 9, 0]\n"
          ]
        }
      ]
    }
  ]
}